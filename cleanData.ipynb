{
 "cells": [
  {
   "cell_type": "code",
   "execution_count": null,
   "id": "15932738-a4c0-4870-9169-c063559f8dfc",
   "metadata": {},
   "outputs": [],
   "source": [
    "====================================================== \n",
    "###        Clean + Filter + Process occurrences       \n",
    "###             By Cristina Ronquillo (2022)            \n",
    "======================================================"
   ]
  },
  {
   "cell_type": "code",
   "execution_count": null,
   "id": "8145bc64-833c-406c-95be-1083be3d8686",
   "metadata": {
    "tags": []
   },
   "outputs": [],
   "source": [
    "### Load packages\n",
    "library(data.table)  # big dataset manipulation\n",
    "library(tidyverse)  # data manipulation\n",
    "library(plyr)  # data manipulation\n",
    "library(dplyr)  # data manipulation\n",
    "library(stringr)  # string manipulation\n",
    "\n",
    "library(GADMTools)  # administrative units\n",
    "library(raster)  # gis\n",
    "library(rgdal)   # gis\n",
    "library(sf)  # gis\n",
    "library(sp)  # gis\n",
    "library(seegSDM)  # gis\n",
    "library(spatialEco)  # point in polygon tool\n",
    "\n",
    "library(plantR)  # data cleaning functions\n",
    "library(CoordinateCleaner)  # data cleaning functions\n",
    "\n",
    "library(biogeo) # data cleaning duplicated data\n",
    "\n",
    "library(lubridate) # dates\n",
    "library(countrycode)  # country names standardization"
   ]
  },
  {
   "cell_type": "markdown",
   "id": "e03603da-c655-4ad1-99c0-b941346d2066",
   "metadata": {
    "jp-MarkdownHeadingCollapsed": true,
    "tags": []
   },
   "source": [
    "### Read occurrences csv and check dimensions"
   ]
  },
  {
   "cell_type": "code",
   "execution_count": null,
   "id": "9380f2cf-95c3-4c93-851b-5cb3f04a736c",
   "metadata": {},
   "outputs": [],
   "source": [
    "data <- data.table::fread(\"\", encoding = 'UTF-8') \n",
    "\n",
    "dim(data)\n",
    "head(data)\n",
    "tail(data)"
   ]
  },
  {
   "cell_type": "markdown",
   "id": "18de1541-0b41-41f9-81d4-e75e9143fef0",
   "metadata": {
    "jp-MarkdownHeadingCollapsed": true,
    "tags": []
   },
   "source": [
    "### Small version of the dataset with neccesary field"
   ]
  },
  {
   "cell_type": "code",
   "execution_count": null,
   "id": "216aa9eb-5d07-4699-af8a-589061a8d7a8",
   "metadata": {},
   "outputs": [],
   "source": [
    "colnames(data)\n",
    "fields <- c(\"gbifID\", \"family\", \"genus\", \"species\", \"infraspecificEpithet\", \"taxonRank\", \"scientificName\", \"countryCode\", \"locality\", \"stateProvince\", \n",
    "             \"decimalLatitude\",\t\"decimalLongitude\", \"coordinatePrecision\", \"day\", \"month\", \"year\", \"occurrenceStatus\", \"basisOfRecord\", \n",
    "             \"recordedBy\", \"issue\")\n",
    "data <- data[ , fields, with=FALSE]\n",
    "colnames(data)\n",
    "rm(fields)"
   ]
  },
  {
   "cell_type": "markdown",
   "id": "25772b64-7f31-4c6a-898b-7f7e9674d970",
   "metadata": {
    "jp-MarkdownHeadingCollapsed": true,
    "tags": []
   },
   "source": [
    "### Apply Previous filters"
   ]
  },
  {
   "cell_type": "code",
   "execution_count": null,
   "id": "09c2d3b3-615c-41c0-a000-8d6fc6c76b49",
   "metadata": {},
   "outputs": [],
   "source": [
    "# Check and filter only presences (discard absences)\n",
    "data <- data[occurrenceStatus == 'PRESENT', ]"
   ]
  },
  {
   "cell_type": "code",
   "execution_count": null,
   "id": "7d811a5d-7681-4770-b447-8c4ae62ebdb3",
   "metadata": {},
   "outputs": [],
   "source": [
    "# Check Basis of Record types\n",
    "unique(data$basisOfRecord)\n",
    "# And how many records of each basisOfRecord:\n",
    "data[, .N, by=basisOfRecord]"
   ]
  },
  {
   "cell_type": "code",
   "execution_count": null,
   "id": "ab96e728-9dd4-4cd1-8016-e2579e69c7fa",
   "metadata": {
    "tags": []
   },
   "outputs": [],
   "source": [
    "# Remove records without appropriate basis of record:\n",
    "data <- data[!basisOfRecord == 'FOSSIL_SPECIMEN', ]  # ! means exclude"
   ]
  },
  {
   "cell_type": "markdown",
   "id": "f7555a35-d9d0-4369-be0f-65f8014a7289",
   "metadata": {
    "jp-MarkdownHeadingCollapsed": true,
    "tags": []
   },
   "source": [
    "## Taxonomic filters"
   ]
  },
  {
   "cell_type": "code",
   "execution_count": null,
   "id": "4aec5c1e-91c8-4dea-aa3a-507157640ba9",
   "metadata": {},
   "outputs": [],
   "source": [
    "# Is the record identified at a proper taxonomic rank? Let's see what do we have in our dataset:\n",
    "unique(data$taxonRank)\n",
    "# And how many of each taxonRank:\n",
    "data[, .N, by = taxonRank]"
   ]
  },
  {
   "cell_type": "code",
   "execution_count": null,
   "id": "0382050f-ae7f-4b91-9803-929ff9af7c24",
   "metadata": {},
   "outputs": [],
   "source": [
    "# Filter those records with appropriate taxonomic rank\n",
    "data <- data[taxonRank =='SUBSPECIES' | taxonRank == 'VARIETY'| taxonRank == 'FORM'| taxonRank =='SPECIES', ]"
   ]
  },
  {
   "cell_type": "code",
   "execution_count": null,
   "id": "bdee3aef-88bd-4cf4-96e3-feaf42ad7800",
   "metadata": {},
   "outputs": [],
   "source": [
    "# Create a checklist with scientific names\n",
    "checklist <- data[ ,c('family', 'genus', 'species', 'infraspecificEpithet', 'taxonRank', 'scientificName') ]\n",
    "checklist <- data.frame(unique(checklist)) # remove duplicated entries"
   ]
  },
  {
   "cell_type": "markdown",
   "id": "b56f161c-8c3d-4b8d-872e-aae1c392e8e3",
   "metadata": {
    "jp-MarkdownHeadingCollapsed": true,
    "tags": []
   },
   "source": [
    "## Geographical check"
   ]
  },
  {
   "cell_type": "markdown",
   "id": "92693d4e-a88d-4980-9153-25678124bc8c",
   "metadata": {
    "jp-MarkdownHeadingCollapsed": true,
    "tags": []
   },
   "source": [
    "### 1. Check coordinates values:"
   ]
  },
  {
   "cell_type": "code",
   "execution_count": null,
   "id": "dfc84852-cbf7-40da-b69c-32fd94deb6d8",
   "metadata": {},
   "outputs": [],
   "source": [
    "# Discard records with latitude/longitude values equals to zero or NULL and exact same value\n",
    "data <- data[decimalLatitude!=0 & decimalLongitude!=0, ][decimalLatitude!=decimalLongitude, ]"
   ]
  },
  {
   "cell_type": "markdown",
   "id": "1044da22-a714-46d6-8c02-26d15662f8bd",
   "metadata": {
    "jp-MarkdownHeadingCollapsed": true,
    "tags": []
   },
   "source": [
    "### 2. Check coordinates precision (as number of decimal digits):"
   ]
  },
  {
   "cell_type": "code",
   "execution_count": null,
   "id": "13905f62-fc29-4aa0-8c33-105321b7f68c",
   "metadata": {},
   "outputs": [],
   "source": [
    "#### Function to count number of decimals:\n",
    "decimal.num.count <- function(x) {\n",
    "    stopifnot(class(x) == \"character\")\n",
    "    x <- ifelse(grepl(\"\\\\.\", x), sub(\".*\\\\.(.*)\", \"\\\\1\", x), \"\")\n",
    "    nchar(x)\n",
    "}"
   ]
  },
  {
   "cell_type": "code",
   "execution_count": null,
   "id": "698d3c20-237d-41da-8611-34610f037426",
   "metadata": {},
   "outputs": [],
   "source": [
    "#### Apply function to latitude and longitude fields\n",
    "latDigits <- decimal.num.count(as.character(data$decimalLatitude))\n",
    "data <- cbind(data, latDigits)\n",
    "lonDigits <- decimal.num.count(as.character(data$decimalLongitude))\n",
    "data <- cbind(data, lonDigits)"
   ]
  },
  {
   "cell_type": "code",
   "execution_count": null,
   "id": "61e3407e-d975-41a0-a217-57d0bf61ca94",
   "metadata": {},
   "outputs": [],
   "source": [
    "# Filter coordinates with 1 or more digit places\n",
    "data <- data[latDigits > 0 & lonDigits > 0, ] "
   ]
  },
  {
   "cell_type": "markdown",
   "id": "be73735a-7876-47cd-bce0-59a93ec87432",
   "metadata": {
    "jp-MarkdownHeadingCollapsed": true,
    "tags": []
   },
   "source": [
    "### 3. Check coordinates position"
   ]
  },
  {
   "cell_type": "markdown",
   "id": "15445a4c-e8b5-40f8-8c5c-713ab84b68ce",
   "metadata": {
    "jp-MarkdownHeadingCollapsed": true,
    "tags": []
   },
   "source": [
    "#### A) Check if coordinates are placed in the assigned country through point in polygon analysis"
   ]
  },
  {
   "cell_type": "code",
   "execution_count": null,
   "id": "702cb89c-a690-4705-9f58-e295e359bc44",
   "metadata": {},
   "outputs": [],
   "source": [
    "# Import gpkg of the world with Adm. Units borders at country level:\n",
    "countries <- readOGR('gadm36_levels.gpkg', \"level0\") "
   ]
  },
  {
   "cell_type": "code",
   "execution_count": null,
   "id": "40eded11-66f0-48fc-a9a5-861f91f748f5",
   "metadata": {},
   "outputs": [],
   "source": [
    "# Transform occurrences into spatial points and project:\n",
    "datapoints <- st_as_sf(x = data, coords = c(\"decimalLongitude\", \"decimalLatitude\"), crs = \"+proj=longlat +datum=WGS84 +no_defs\")"
   ]
  },
  {
   "cell_type": "code",
   "execution_count": null,
   "id": "6bd90f94-6afd-4531-a6e1-0ff5ad11cbd3",
   "metadata": {},
   "outputs": [],
   "source": [
    "# Point in polygon execution:\n",
    "pip <- point.in.poly(datapoints, countries)"
   ]
  },
  {
   "cell_type": "code",
   "execution_count": null,
   "id": "f5d5555e-d848-40e6-b9a7-93963a74f1a2",
   "metadata": {},
   "outputs": [],
   "source": [
    "# Retrieve data as data table again\n",
    "data <- pip@data\n",
    "data$GID_0 <- NULL  # keep only 'Name_0' (country names of GADM)\n",
    "setDT(data)  # set data table\n",
    "setnames(data,\"NAME_0\", \"GADM_Location\")  # rename new field"
   ]
  },
  {
   "cell_type": "code",
   "execution_count": null,
   "id": "256ceac5-89d5-4555-bd7b-c5f8d6d73197",
   "metadata": {},
   "outputs": [],
   "source": [
    "# Translate 'countryCode' information (ISO 3166-1-alpha-2 = \"iso2c\") into country names of GADM 'countryCode'\n",
    "data$countryName <- countrycode(data$countryCode, origin = \"iso2c\", destination = \"country.name\")"
   ]
  },
  {
   "cell_type": "code",
   "execution_count": null,
   "id": "76689d36-24a4-4047-ba3c-7f35c9d2efeb",
   "metadata": {},
   "outputs": [],
   "source": [
    "# Make changes in country names to match them\n",
    "data$countryName[data$countryName == \"Czechia\"] <- \"Czech Republic\" # Change 'Czechia'='Czech Republic'\n",
    "data$countryName[data$countryName == \"Svalbard & Jan Mayen\"] <- 'Svalbard and Jan Mayen'\n",
    "data$countryName[data$countryName == \"Eswatini\"] <- \"Swaziland\"\n",
    "data$countryName[data$countryName == \"St. Pierre & Miquelon\"] <- \"Saint Pierre and Miquelon\"\n",
    "data$countryName[data$countryName == \"Turks & Caicos Islands\"] <- \"Turks and Caicos Islands\"\n",
    "data$countryName[data$countryName == \"Åland Islands\"] <- \"Finland\"\n",
    "data$countryName[data$countryName == \"Palestinian Territories\"] <- \"Israel\"\n",
    "data$countryName[data$countryName == \"Myanmar (Burma)\"] <- \"Myanmar\"\n",
    "data$countryName[data$countryName == \"North Macedonia\"] <- \"Macedonia\"\n",
    "data$countryName[data$countryName == \"Hong Kong SAR China\"] <- \"Hong Kong\"\n",
    "data$countryName[data$countryName == \"Bosnia & Herzegovina\"] <- \"Bosnia and Herzegovina\"\n",
    "\n",
    "data$GADM_Location[data$GADM_Location == \"Akrotiri and Dhekelia\"] <- \"Cyprus\"\n",
    "data$GADM_Location[data$GADM_Location == \"Åland\"] <- \"Finland\"\n",
    "data$GADM_Location[data$GADM_Location == \"Palestina\"] <- \"Israel\"\n",
    "data$GADM_Location[data$GADM_Location == \"Northern Cyprus\"] <- \"Cyprus\""
   ]
  },
  {
   "cell_type": "code",
   "execution_count": null,
   "id": "68347fdb-c9e4-48d9-92b9-486c58bfbfd1",
   "metadata": {},
   "outputs": [],
   "source": [
    "# Match country names and label as 'FALSE' occurrences to check\n",
    "data$countryCheck <- data$GADM_Location == data$countryName\n",
    "data <- data %>% complete(data, fill = list(countryCheck = 'FALSE'))\n",
    "setDT(data)"
   ]
  },
  {
   "cell_type": "code",
   "execution_count": null,
   "id": "f4bf6656-8e27-4e7c-8810-aea256f71b35",
   "metadata": {},
   "outputs": [],
   "source": [
    "# Subset and extract records located in country assigned by collector ('correct')\n",
    "data_correct <- data[countryCheck == 'TRUE', ]"
   ]
  },
  {
   "cell_type": "markdown",
   "id": "81cfdf48-8c80-4244-99fe-de0d05711d12",
   "metadata": {
    "jp-MarkdownHeadingCollapsed": true,
    "tags": []
   },
   "source": [
    "#### B) Check if coordinates are placed in correct habitat (sea-land)"
   ]
  },
  {
   "cell_type": "code",
   "execution_count": null,
   "id": "552d682d-f1ba-48c9-bf17-fca3557fe419",
   "metadata": {},
   "outputs": [],
   "source": [
    "# Filter occurrences that didn't fall in the correct country polygon. Label those that didn't fall in any country polygon as 'SEA'\n",
    "data_1 <- data[countryCheck == 'FALSE', ]\n",
    "data_1 <- data_1 %>% complete(data_1, fill = list(GADM_Location = 'SEA'))\n",
    "setDT(data_1)"
   ]
  },
  {
   "cell_type": "code",
   "execution_count": null,
   "id": "9b6a975b-2341-4db8-9a5d-f575f5f5195e",
   "metadata": {},
   "outputs": [],
   "source": [
    "# Subset and check points that fall out of their habitat GADM_Location =='SEA'\n",
    "data_sea_points <- data_1[GADM_Location == 'SEA', ]"
   ]
  },
  {
   "cell_type": "code",
   "execution_count": null,
   "id": "af9e0cf6-fd85-4f8f-8406-f8ed86dfdca0",
   "metadata": {},
   "outputs": [],
   "source": [
    "# Transform occurrences into spatial points and project:\n",
    "data_sea_points <- st_as_sf(x = data_sea_points, coords = c(\"decimalLongitude\", \"decimalLatitude\"), crs = \"+proj=longlat +datum=WGS84 +no_defs\")"
   ]
  },
  {
   "cell_type": "markdown",
   "id": "0def56bf-7f0c-4960-bade-e8af57e01475",
   "metadata": {
    "jp-MarkdownHeadingCollapsed": true,
    "tags": []
   },
   "source": [
    "##### Label points that fall in a fixed distance from the coastline "
   ]
  },
  {
   "cell_type": "code",
   "execution_count": null,
   "id": "36404ddd-9bbc-4d1f-97ce-46e0c04734d3",
   "metadata": {},
   "outputs": [],
   "source": [
    "# Load buffer shapefile (here 0.1 degrees - ca. 10 km)\n",
    "landBuff <- readOGR('buffer_0.1.shp')"
   ]
  },
  {
   "cell_type": "code",
   "execution_count": null,
   "id": "dde5b251-3818-4408-b01d-fd0662f701bd",
   "metadata": {},
   "outputs": [],
   "source": [
    "# Crop buffer shp with records extent to better performance:\n",
    "new_extent <- as(extent(data_sea_points), 'SpatialPolygons') \n",
    "buff_0.1 <- crop(landBuff, new_extent)\n",
    "proj4string(buff_0.1) <- \"+proj=longlat +datum=WGS84 +no_defs\""
   ]
  },
  {
   "cell_type": "code",
   "execution_count": null,
   "id": "26daa9f3-590d-4efe-85d8-f9b7dce25211",
   "metadata": {},
   "outputs": [],
   "source": [
    "# Function to overlap points with buffer\n",
    "sea_0.1 <- over(data_sea_points, buff_0.1)"
   ]
  },
  {
   "cell_type": "code",
   "execution_count": null,
   "id": "e3992d2a-f0b9-425e-9572-f89ce97c176d",
   "metadata": {},
   "outputs": [],
   "source": [
    "# Transform our initial dataset into a dataframe again\n",
    "data_sea_points <- data_sea_points@data"
   ]
  },
  {
   "cell_type": "code",
   "execution_count": null,
   "id": "f6ea0e99-027b-4e33-a971-ef4d88f85b6e",
   "metadata": {},
   "outputs": [],
   "source": [
    "# Bind the column that indicates if the occurrence fall in our buffer (= Coastline). Occurrences out of the buffer have NA\n",
    "data_sea_points <- cbind(data_sea_points, sea_0.1$featurecla) \n",
    "setDT(data_sea_points) # transform df to data table\n",
    "setnames(data_sea_points, \"featurecla\", \"shoreLine0.1\")"
   ]
  },
  {
   "cell_type": "code",
   "execution_count": null,
   "id": "abddcdd5-7019-44d4-86c5-42969416949a",
   "metadata": {},
   "outputs": [],
   "source": [
    "# Subset those points that fall in our buffer\n",
    "dataSeaPointsGood <- data_sea_points[shoreLine0.1 == 'Coastline', ]"
   ]
  },
  {
   "cell_type": "code",
   "execution_count": null,
   "id": "99757e60-b91e-4707-8e4b-10ecf58e2fa0",
   "metadata": {},
   "outputs": [],
   "source": [
    "##### NOW MOVE TO QGIS & Apply 'Join attributes by nearest' -> Assign the nearest country to each of these 'sea' occurrences "
   ]
  },
  {
   "cell_type": "code",
   "execution_count": null,
   "id": "3ec386b4-a9e8-488a-8b25-d094cfc8ea1d",
   "metadata": {},
   "outputs": [],
   "source": [
    "# Load output from QGIS\n",
    "sea_buff_check <- fread('dataSeaPoints_coastlineCheck.csv',sep=\"\\t\")\n",
    "setnames(sea_buff_check, \"NAME_0\", \"Coastal_Country\")\n",
    "sea_buff_check$feature_x <- NULL\n",
    "sea_buff_check$feature_y <- NULL\n",
    "sea_buff_check$n <- NULL\n",
    "unique(sea_buff_check$Coastal_Country)"
   ]
  },
  {
   "cell_type": "code",
   "execution_count": null,
   "id": "b905cf3d-c807-42e3-bf0b-b00a733de9a3",
   "metadata": {},
   "outputs": [],
   "source": [
    "# Transform some country names:\n",
    "sea_buff_check$Coastal_Country[sea_buff_check$Coastal_Country == \"Åland\"] <- \"Finland\"\n",
    "sea_buff_check$Coastal_Country[sea_buff_check$Coastal_Country == \"St. Pierre and Miquelon\"] <- \"St. Pierre & Miquelon\"\n",
    "sea_buff_check$Coastal_Country[sea_buff_check$Coastal_Country == \"Turks and Caicos Islands\"] <- \"Turks & Caicos Islands\"\n",
    "sea_buff_check$Coastal_Country[sea_buff_check$Coastal_Country == \"Isle of Man\"] <- \"United Kingdom\""
   ]
  },
  {
   "cell_type": "code",
   "execution_count": null,
   "id": "88bd8e85-d1eb-4b4d-967e-d0a507390299",
   "metadata": {},
   "outputs": [],
   "source": [
    "# Check if they are placed in the assigned country and subset those who are correctly located\n",
    "sea_buff_check$country_shore_check <- sea_buff_check$Coastal_Country == sea_buff_check$countryName\n",
    "setDT(sea_buff_check)\n",
    "colnames(sea_buff_check)"
   ]
  },
  {
   "cell_type": "code",
   "execution_count": null,
   "id": "9d8c83ef-9904-4b53-8e13-d871a7420795",
   "metadata": {},
   "outputs": [],
   "source": [
    "# Filter correct records:\n",
    "data_sea_correct <- sea_buff_check[country_shore_check == 'TRUE', ]"
   ]
  },
  {
   "cell_type": "code",
   "execution_count": null,
   "id": "d227874b-0683-4147-ba4c-9e8fae467c96",
   "metadata": {},
   "outputs": [],
   "source": [
    "# Merge with previous correct dataset\n",
    "data_correct <- rbind(data_correct, data_sea_correct, fill = TRUE)"
   ]
  },
  {
   "cell_type": "markdown",
   "id": "7304be6c-3f4c-4fe0-a996-f31e0ea216c8",
   "metadata": {
    "jp-MarkdownHeadingCollapsed": true,
    "tags": []
   },
   "source": [
    "##### Merge datasets with incorrect records (Check manually these records and add to data_correct dataset after corrections):"
   ]
  },
  {
   "cell_type": "code",
   "execution_count": null,
   "id": "66f04628-10c9-4c91-b610-c104181255d9",
   "metadata": {},
   "outputs": [],
   "source": [
    "# Subset points that fall in wrong country\n",
    "incorrect_points <- data_1[!GADM_Location == 'SEA', ]  "
   ]
  },
  {
   "cell_type": "code",
   "execution_count": null,
   "id": "0db55ec2-4260-4b94-af34-eb26cef6ee90",
   "metadata": {},
   "outputs": [],
   "source": [
    "# Subset points that are placed in sea but outside 0.1 buffer from coast\n",
    "incorrect_points2 <- data_sea_points[is.na(shoreLine0.1), ]  \n",
    "incorrect_points2$shoreLine0.1 <- NULL"
   ]
  },
  {
   "cell_type": "code",
   "execution_count": null,
   "id": "6323271c-405f-4f88-88bf-7955636d46e6",
   "metadata": {},
   "outputs": [],
   "source": [
    "# Subset points that are placed in coast buffer but nearest country is wrong\n",
    "incorrect_points3 <- sea_buff_check[country_shore_check == 'FALSE', ]  \n",
    "colnames(incorrect_points3)\n",
    "incorrect_points3 <- incorrect_points3[ ,c(1:25, 27)]  # select some necessary fields"
   ]
  },
  {
   "cell_type": "code",
   "execution_count": null,
   "id": "4c0faf6b-7416-4014-9569-a2012bfa6fb2",
   "metadata": {},
   "outputs": [],
   "source": [
    "# Merge everything\n",
    "incorrect_points <- rbind(incorrect_points, incorrect_points2)\n",
    "incorrect_points <- rbind(incorrect_points, incorrect_points3, fill = TRUE)"
   ]
  },
  {
   "cell_type": "markdown",
   "id": "e14cefa9-f327-4c8c-9e61-f891f0918b05",
   "metadata": {
    "jp-MarkdownHeadingCollapsed": true,
    "tags": []
   },
   "source": [
    "#### C) Check records that don't meet some location criteria "
   ]
  },
  {
   "cell_type": "code",
   "execution_count": null,
   "id": "0b73487c-d796-41c0-aefb-58e909b9473b",
   "metadata": {},
   "outputs": [],
   "source": [
    "# Label coordinates placed in centroids of the country\n",
    "cap <- cc_cap (data_correct,\n",
    "              lon = \"decimalLongitude\",\n",
    "              lat = \"decimalLatitude\",\n",
    "              value = \"flagged\")\n",
    "data_correct <- cbind(data_correct, cap)"
   ]
  },
  {
   "cell_type": "code",
   "execution_count": null,
   "id": "33c225e1-acb3-4d0a-97b2-b393d95ada4d",
   "metadata": {},
   "outputs": [],
   "source": [
    "# Label coordinates placed in gbif headquarters\n",
    "gbif <- cc_gbif(data_correct,\n",
    "              lon = \"decimalLongitude\",\n",
    "              lat = \"decimalLatitude\",\n",
    "              value = \"flagged\")\n",
    "data_correct <- cbind(data_correct, gbif)"
   ]
  },
  {
   "cell_type": "code",
   "execution_count": null,
   "id": "a651c756-8954-4dfd-a937-5ecfca5260a4",
   "metadata": {},
   "outputs": [],
   "source": [
    "# Label coordinates from museums, gardens, institutions, zoo's... \n",
    "inst <- cc_inst(data_correct,\n",
    "                lon = \"decimalLongitude\",\n",
    "                lat = \"decimalLatitude\",\n",
    "                value = \"flagged\")\n",
    "data_correct <- cbind(data_correct, inst)"
   ]
  },
  {
   "cell_type": "code",
   "execution_count": null,
   "id": "9322a220-eefc-401a-9adc-9936887b1890",
   "metadata": {},
   "outputs": [],
   "source": [
    "# Filter and exclude centroids\n",
    "data_correct <- data_correct[cap == 'TRUE', ][inst == 'TRUE', ][gbif == 'TRUE', ]"
   ]
  }
 ],
 "metadata": {
  "kernelspec": {
   "display_name": "R_prueba",
   "language": "r",
   "name": "orchest-kernel-deecaf25-a141-42aa-bb17-769ca50f95a0"
  },
  "language_info": {
   "codemirror_mode": "r",
   "file_extension": ".r",
   "mimetype": "text/x-r-source",
   "name": "R",
   "pygments_lexer": "r",
   "version": "3.6.3"
  }
 },
 "nbformat": 4,
 "nbformat_minor": 5
}
